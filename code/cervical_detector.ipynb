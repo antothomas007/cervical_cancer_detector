{
 "cells": [
  {
   "cell_type": "code",
   "execution_count": 1,
   "id": "e0b54e5f",
   "metadata": {},
   "outputs": [],
   "source": [
    "import os\n",
    "import cv2\n",
    "import numpy as np\n",
    "from tensorflow.keras.preprocessing.image import img_to_array,load_img\n",
    "from tensorflow.keras.utils import to_categorical\n",
    "from sklearn .preprocessing import LabelBinarizer\n",
    "from tensorflow.keras.applications import MobileNetV2\n",
    "from tensorflow.keras.applications.mobilenet_v2 import preprocess_input"
   ]
  },
  {
   "cell_type": "code",
   "execution_count": 29,
   "id": "a39d1a9d",
   "metadata": {},
   "outputs": [],
   "source": [
    "data_path=r\"C:\\pyyy\\procan\""
   ]
  },
  {
   "cell_type": "code",
   "execution_count": 2,
   "id": "c6c0a27f",
   "metadata": {},
   "outputs": [
    {
     "name": "stderr",
     "output_type": "stream",
     "text": [
      "\n",
      "Usage:   \n",
      "  pip uninstall [options] <package> ...\n",
      "  pip uninstall [options] -r <requirements file> ...\n",
      "\n",
      "no such option: -2\n"
     ]
    },
    {
     "name": "stdout",
     "output_type": "stream",
     "text": [
      "Collecting tensorflow==2.12.0\n",
      "  Using cached tensorflow-2.12.0-cp311-cp311-win_amd64.whl.metadata (2.5 kB)\n",
      "Requirement already satisfied: tensorflow-intel==2.12.0 in c:\\users\\anto\\anaconda3\\lib\\site-packages (from tensorflow==2.12.0) (2.12.0)\n",
      "Requirement already satisfied: absl-py>=1.0.0 in c:\\users\\anto\\anaconda3\\lib\\site-packages (from tensorflow-intel==2.12.0->tensorflow==2.12.0) (2.1.0)\n",
      "Requirement already satisfied: astunparse>=1.6.0 in c:\\users\\anto\\anaconda3\\lib\\site-packages (from tensorflow-intel==2.12.0->tensorflow==2.12.0) (1.6.3)\n",
      "Requirement already satisfied: flatbuffers>=2.0 in c:\\users\\anto\\anaconda3\\lib\\site-packages (from tensorflow-intel==2.12.0->tensorflow==2.12.0) (23.5.26)\n",
      "Requirement already satisfied: gast<=0.4.0,>=0.2.1 in c:\\users\\anto\\anaconda3\\lib\\site-packages (from tensorflow-intel==2.12.0->tensorflow==2.12.0) (0.4.0)\n",
      "Requirement already satisfied: google-pasta>=0.1.1 in c:\\users\\anto\\anaconda3\\lib\\site-packages (from tensorflow-intel==2.12.0->tensorflow==2.12.0) (0.2.0)\n",
      "Requirement already satisfied: h5py>=2.9.0 in c:\\users\\anto\\anaconda3\\lib\\site-packages (from tensorflow-intel==2.12.0->tensorflow==2.12.0) (3.7.0)\n",
      "Requirement already satisfied: jax>=0.3.15 in c:\\users\\anto\\anaconda3\\lib\\site-packages (from tensorflow-intel==2.12.0->tensorflow==2.12.0) (0.4.26)\n",
      "Requirement already satisfied: libclang>=13.0.0 in c:\\users\\anto\\anaconda3\\lib\\site-packages (from tensorflow-intel==2.12.0->tensorflow==2.12.0) (16.0.6)\n",
      "Requirement already satisfied: numpy<1.24,>=1.22 in c:\\users\\anto\\anaconda3\\lib\\site-packages (from tensorflow-intel==2.12.0->tensorflow==2.12.0) (1.23.5)\n",
      "Requirement already satisfied: opt-einsum>=2.3.2 in c:\\users\\anto\\anaconda3\\lib\\site-packages (from tensorflow-intel==2.12.0->tensorflow==2.12.0) (3.3.0)\n",
      "Requirement already satisfied: packaging in c:\\users\\anto\\anaconda3\\lib\\site-packages (from tensorflow-intel==2.12.0->tensorflow==2.12.0) (23.0)\n",
      "Requirement already satisfied: protobuf!=4.21.0,!=4.21.1,!=4.21.2,!=4.21.3,!=4.21.4,!=4.21.5,<5.0.0dev,>=3.20.3 in c:\\users\\anto\\anaconda3\\lib\\site-packages (from tensorflow-intel==2.12.0->tensorflow==2.12.0) (4.25.3)\n",
      "Requirement already satisfied: setuptools in c:\\users\\anto\\anaconda3\\lib\\site-packages (from tensorflow-intel==2.12.0->tensorflow==2.12.0) (68.0.0)\n",
      "Requirement already satisfied: six>=1.12.0 in c:\\users\\anto\\anaconda3\\lib\\site-packages (from tensorflow-intel==2.12.0->tensorflow==2.12.0) (1.16.0)\n",
      "Requirement already satisfied: termcolor>=1.1.0 in c:\\users\\anto\\anaconda3\\lib\\site-packages (from tensorflow-intel==2.12.0->tensorflow==2.12.0) (2.4.0)\n",
      "Requirement already satisfied: typing-extensions>=3.6.6 in c:\\users\\anto\\anaconda3\\lib\\site-packages (from tensorflow-intel==2.12.0->tensorflow==2.12.0) (4.7.1)\n",
      "Requirement already satisfied: wrapt<1.15,>=1.11.0 in c:\\users\\anto\\anaconda3\\lib\\site-packages (from tensorflow-intel==2.12.0->tensorflow==2.12.0) (1.14.1)\n",
      "Requirement already satisfied: grpcio<2.0,>=1.24.3 in c:\\users\\anto\\anaconda3\\lib\\site-packages (from tensorflow-intel==2.12.0->tensorflow==2.12.0) (1.62.0)\n",
      "Requirement already satisfied: tensorboard<2.13,>=2.12 in c:\\users\\anto\\anaconda3\\lib\\site-packages (from tensorflow-intel==2.12.0->tensorflow==2.12.0) (2.12.3)\n",
      "Requirement already satisfied: tensorflow-estimator<2.13,>=2.12.0 in c:\\users\\anto\\anaconda3\\lib\\site-packages (from tensorflow-intel==2.12.0->tensorflow==2.12.0) (2.12.0)\n",
      "Requirement already satisfied: keras<2.13,>=2.12.0 in c:\\users\\anto\\anaconda3\\lib\\site-packages (from tensorflow-intel==2.12.0->tensorflow==2.12.0) (2.12.0)\n",
      "Requirement already satisfied: tensorflow-io-gcs-filesystem>=0.23.1 in c:\\users\\anto\\anaconda3\\lib\\site-packages (from tensorflow-intel==2.12.0->tensorflow==2.12.0) (0.31.0)\n",
      "Requirement already satisfied: wheel<1.0,>=0.23.0 in c:\\users\\anto\\anaconda3\\lib\\site-packages (from astunparse>=1.6.0->tensorflow-intel==2.12.0->tensorflow==2.12.0) (0.38.4)\n",
      "Requirement already satisfied: ml-dtypes>=0.2.0 in c:\\users\\anto\\anaconda3\\lib\\site-packages (from jax>=0.3.15->tensorflow-intel==2.12.0->tensorflow==2.12.0) (0.2.0)\n",
      "Requirement already satisfied: scipy>=1.9 in c:\\users\\anto\\anaconda3\\lib\\site-packages (from jax>=0.3.15->tensorflow-intel==2.12.0->tensorflow==2.12.0) (1.10.1)\n",
      "Requirement already satisfied: google-auth<3,>=1.6.3 in c:\\users\\anto\\anaconda3\\lib\\site-packages (from tensorboard<2.13,>=2.12->tensorflow-intel==2.12.0->tensorflow==2.12.0) (2.28.1)\n",
      "Requirement already satisfied: google-auth-oauthlib<1.1,>=0.5 in c:\\users\\anto\\anaconda3\\lib\\site-packages (from tensorboard<2.13,>=2.12->tensorflow-intel==2.12.0->tensorflow==2.12.0) (1.0.0)\n",
      "Requirement already satisfied: markdown>=2.6.8 in c:\\users\\anto\\anaconda3\\lib\\site-packages (from tensorboard<2.13,>=2.12->tensorflow-intel==2.12.0->tensorflow==2.12.0) (3.4.1)\n",
      "Requirement already satisfied: requests<3,>=2.21.0 in c:\\users\\anto\\anaconda3\\lib\\site-packages (from tensorboard<2.13,>=2.12->tensorflow-intel==2.12.0->tensorflow==2.12.0) (2.31.0)\n",
      "Requirement already satisfied: tensorboard-data-server<0.8.0,>=0.7.0 in c:\\users\\anto\\anaconda3\\lib\\site-packages (from tensorboard<2.13,>=2.12->tensorflow-intel==2.12.0->tensorflow==2.12.0) (0.7.2)\n",
      "Requirement already satisfied: werkzeug>=1.0.1 in c:\\users\\anto\\anaconda3\\lib\\site-packages (from tensorboard<2.13,>=2.12->tensorflow-intel==2.12.0->tensorflow==2.12.0) (2.2.3)\n",
      "Requirement already satisfied: cachetools<6.0,>=2.0.0 in c:\\users\\anto\\anaconda3\\lib\\site-packages (from google-auth<3,>=1.6.3->tensorboard<2.13,>=2.12->tensorflow-intel==2.12.0->tensorflow==2.12.0) (5.3.3)\n",
      "Requirement already satisfied: pyasn1-modules>=0.2.1 in c:\\users\\anto\\anaconda3\\lib\\site-packages (from google-auth<3,>=1.6.3->tensorboard<2.13,>=2.12->tensorflow-intel==2.12.0->tensorflow==2.12.0) (0.2.8)\n",
      "Requirement already satisfied: rsa<5,>=3.1.4 in c:\\users\\anto\\anaconda3\\lib\\site-packages (from google-auth<3,>=1.6.3->tensorboard<2.13,>=2.12->tensorflow-intel==2.12.0->tensorflow==2.12.0) (4.9)\n",
      "Requirement already satisfied: requests-oauthlib>=0.7.0 in c:\\users\\anto\\anaconda3\\lib\\site-packages (from google-auth-oauthlib<1.1,>=0.5->tensorboard<2.13,>=2.12->tensorflow-intel==2.12.0->tensorflow==2.12.0) (1.3.1)\n",
      "Requirement already satisfied: charset-normalizer<4,>=2 in c:\\users\\anto\\anaconda3\\lib\\site-packages (from requests<3,>=2.21.0->tensorboard<2.13,>=2.12->tensorflow-intel==2.12.0->tensorflow==2.12.0) (2.0.4)\n",
      "Requirement already satisfied: idna<4,>=2.5 in c:\\users\\anto\\anaconda3\\lib\\site-packages (from requests<3,>=2.21.0->tensorboard<2.13,>=2.12->tensorflow-intel==2.12.0->tensorflow==2.12.0) (3.4)\n",
      "Requirement already satisfied: urllib3<3,>=1.21.1 in c:\\users\\anto\\anaconda3\\lib\\site-packages (from requests<3,>=2.21.0->tensorboard<2.13,>=2.12->tensorflow-intel==2.12.0->tensorflow==2.12.0) (1.26.16)\n",
      "Requirement already satisfied: certifi>=2017.4.17 in c:\\users\\anto\\anaconda3\\lib\\site-packages (from requests<3,>=2.21.0->tensorboard<2.13,>=2.12->tensorflow-intel==2.12.0->tensorflow==2.12.0) (2023.7.22)\n",
      "Requirement already satisfied: MarkupSafe>=2.1.1 in c:\\users\\anto\\anaconda3\\lib\\site-packages (from werkzeug>=1.0.1->tensorboard<2.13,>=2.12->tensorflow-intel==2.12.0->tensorflow==2.12.0) (2.1.1)\n",
      "Requirement already satisfied: pyasn1<0.5.0,>=0.4.6 in c:\\users\\anto\\anaconda3\\lib\\site-packages (from pyasn1-modules>=0.2.1->google-auth<3,>=1.6.3->tensorboard<2.13,>=2.12->tensorflow-intel==2.12.0->tensorflow==2.12.0) (0.4.8)\n",
      "Requirement already satisfied: oauthlib>=3.0.0 in c:\\users\\anto\\anaconda3\\lib\\site-packages (from requests-oauthlib>=0.7.0->google-auth-oauthlib<1.1,>=0.5->tensorboard<2.13,>=2.12->tensorflow-intel==2.12.0->tensorflow==2.12.0) (3.2.2)\n",
      "Using cached tensorflow-2.12.0-cp311-cp311-win_amd64.whl (1.9 kB)\n",
      "Installing collected packages: tensorflow\n",
      "Successfully installed tensorflow-2.12.0\n",
      "2.12.0\n"
     ]
    }
   ],
   "source": [
    "# Uninstall the current version of TensorFlow.\n",
    "!pip uninstall tensorflow -2.13.0\n",
    "\n",
    "# Install TensorFlow 1.15.0.\n",
    "!pip install tensorflow==2.12.0\n",
    "\n",
    "# Verify the TensorFlow version.\n",
    "import tensorflow as tf\n",
    "print(tf.__version__)"
   ]
  },
  {
   "cell_type": "code",
   "execution_count": 30,
   "id": "02c32bca",
   "metadata": {},
   "outputs": [
    {
     "data": {
      "text/plain": [
       "['test', 'train']"
      ]
     },
     "execution_count": 30,
     "metadata": {},
     "output_type": "execute_result"
    }
   ],
   "source": [
    "categories=os.listdir(data_path)\n",
    "categories"
   ]
  },
  {
   "cell_type": "code",
   "execution_count": 31,
   "id": "f057cf82",
   "metadata": {},
   "outputs": [],
   "source": [
    "labels=[i for i in range(len(categories))]"
   ]
  },
  {
   "cell_type": "code",
   "execution_count": 32,
   "id": "10aa63e7",
   "metadata": {},
   "outputs": [],
   "source": [
    "label_dict=dict(zip(categories,labels))"
   ]
  },
  {
   "cell_type": "code",
   "execution_count": 33,
   "id": "4c289cec",
   "metadata": {},
   "outputs": [],
   "source": [
    "data=[]\n",
    "target=[]\n",
    "for category in categories:\n",
    "    path=os.path.join(data_path,category)\n",
    "    images=os.listdir(path)\n",
    "    for img in images:\n",
    "        image_path=os.path.join(path,img)\n",
    "        image=load_img(image_path,target_size=(174,122))\n",
    "        image=img_to_array(image)\n",
    "        image=preprocess_input(image)\n",
    "        data.append(image)\n",
    "        target.append(category)"
   ]
  },
  {
   "cell_type": "code",
   "execution_count": 34,
   "id": "f6463000",
   "metadata": {},
   "outputs": [],
   "source": [
    "lb=LabelBinarizer()\n",
    "target=lb.fit_transform(target)\n",
    "target=to_categorical(target)"
   ]
  },
  {
   "cell_type": "code",
   "execution_count": 35,
   "id": "62cd1bf0",
   "metadata": {},
   "outputs": [],
   "source": [
    "from tensorflow.python.keras.utils import np_utils\n",
    "new_target=np_utils.to_categorical(target)"
   ]
  },
  {
   "cell_type": "code",
   "execution_count": 36,
   "id": "11edc7e8",
   "metadata": {},
   "outputs": [],
   "source": [
    "np.save('data.npy', data) "
   ]
  },
  {
   "cell_type": "code",
   "execution_count": 37,
   "id": "d16fa7ef",
   "metadata": {},
   "outputs": [],
   "source": [
    "np.save('target.npy', target)"
   ]
  },
  {
   "cell_type": "code",
   "execution_count": 38,
   "id": "d978fe68",
   "metadata": {},
   "outputs": [],
   "source": [
    "import numpy as np\n",
    "from tensorflow.python.keras.models import Sequential\n",
    "from tensorflow.python.keras.layers import Dense,Activation,Flatten,Dropout\n",
    "from tensorflow.python.keras.layers import Conv2D,MaxPooling2D\n",
    "from tensorflow.python.keras.callbacks import ModelCheckpoint\n",
    "from tensorflow.python.keras.optimizers import TFOptimizer\n",
    "from tensorflow.python.keras.models import load_model\n",
    "data=np.load('data.npy')\n",
    "target=np.load('target.npy')"
   ]
  },
  {
   "cell_type": "code",
   "execution_count": 39,
   "id": "21044b18",
   "metadata": {},
   "outputs": [],
   "source": [
    "from sklearn.model_selection import train_test_split\n",
    "#data preperation\n",
    "train_data,test_data,train_target,test_target=train_test_split(data,target,test_size=0.1)"
   ]
  },
  {
   "cell_type": "code",
   "execution_count": 40,
   "id": "1c678161",
   "metadata": {},
   "outputs": [],
   "source": [
    "model=Sequential()\n",
    "\n",
    "#create a convolutional layer\n",
    "model.add(Conv2D(200,(3,3),input_shape=data.shape[1:]))#Here 200 convolutional layer\n",
    "model.add(Activation('relu'))#relu is the activation function\n",
    "model.add(MaxPooling2D(pool_size=(2,2)))#2x2 maxpooling layer\n",
    "#The first CNN layer followed by Relu and MaxPooling layers\n",
    "\n",
    "model.add(Conv2D(100,(3,3)))\n",
    "model.add(Activation('relu'))\n",
    "model.add(MaxPooling2D(pool_size=(2,2)))\n",
    "\n",
    "#The second convolution layer followed by Relu and MaxPooling layers\n",
    "model.add(Flatten())\n",
    "model.add(Dropout(0.5))\n",
    "#Flatten layer to stack the output convolutions from second convolution layer\n",
    "model.add(Dense(50,activation='relu'))\n",
    "#Dense layer of 50 neurons\n",
    "model.add(Dense(2,activation='softmax'))\n",
    "#The Final layer with two outputs for two categories"
   ]
  },
  {
   "cell_type": "code",
   "execution_count": 43,
   "id": "c5c3cb4f",
   "metadata": {},
   "outputs": [
    {
     "name": "stdout",
     "output_type": "stream",
     "text": [
      "Epoch 1/15\n",
      "213/213 [==============================] - 791s 4s/step - loss: 0.4289 - accuracy: 0.8324 - val_loss: 0.4790 - val_accuracy: 0.8204\n",
      "INFO:tensorflow:Assets written to: model-001.model\\assets\n",
      "Epoch 2/15\n",
      "213/213 [==============================] - 831s 4s/step - loss: 0.4107 - accuracy: 0.8388 - val_loss: 0.4573 - val_accuracy: 0.8169\n",
      "INFO:tensorflow:Assets written to: model-002.model\\assets\n",
      "Epoch 3/15\n",
      "213/213 [==============================] - 825s 4s/step - loss: 0.3947 - accuracy: 0.8409 - val_loss: 0.4482 - val_accuracy: 0.8234\n",
      "INFO:tensorflow:Assets written to: model-003.model\\assets\n",
      "Epoch 4/15\n",
      "213/213 [==============================] - 756s 4s/step - loss: 0.3672 - accuracy: 0.8479 - val_loss: 0.4720 - val_accuracy: 0.8122\n",
      "Epoch 5/15\n",
      "213/213 [==============================] - 756s 4s/step - loss: 0.3491 - accuracy: 0.8485 - val_loss: 0.4743 - val_accuracy: 0.8234\n",
      "Epoch 6/15\n",
      "213/213 [==============================] - 728s 3s/step - loss: 0.3173 - accuracy: 0.8614 - val_loss: 0.4997 - val_accuracy: 0.8222\n",
      "Epoch 7/15\n",
      "213/213 [==============================] - 671s 3s/step - loss: 0.3001 - accuracy: 0.8657 - val_loss: 0.4999 - val_accuracy: 0.8146\n",
      "Epoch 8/15\n",
      "213/213 [==============================] - 652s 3s/step - loss: 0.2718 - accuracy: 0.8721 - val_loss: 0.5498 - val_accuracy: 0.8146\n",
      "Epoch 9/15\n",
      "213/213 [==============================] - 651s 3s/step - loss: 0.2466 - accuracy: 0.8805 - val_loss: 0.5752 - val_accuracy: 0.8198\n",
      "Epoch 10/15\n",
      "213/213 [==============================] - 694s 3s/step - loss: 0.2305 - accuracy: 0.8927 - val_loss: 0.6092 - val_accuracy: 0.8087\n",
      "Epoch 11/15\n",
      "213/213 [==============================] - 732s 3s/step - loss: 0.2012 - accuracy: 0.9129 - val_loss: 0.6678 - val_accuracy: 0.8128\n",
      "Epoch 12/15\n",
      "213/213 [==============================] - 649s 3s/step - loss: 0.1931 - accuracy: 0.9175 - val_loss: 0.6562 - val_accuracy: 0.7934\n",
      "Epoch 13/15\n",
      "213/213 [==============================] - 633s 3s/step - loss: 0.1871 - accuracy: 0.9219 - val_loss: 0.7602 - val_accuracy: 0.7981\n",
      "Epoch 14/15\n",
      "213/213 [==============================] - 633s 3s/step - loss: 0.1783 - accuracy: 0.9265 - val_loss: 0.8309 - val_accuracy: 0.8022\n",
      "Epoch 15/15\n",
      "213/213 [==============================] - 633s 3s/step - loss: 0.1580 - accuracy: 0.9344 - val_loss: 0.7558 - val_accuracy: 0.7928\n"
     ]
    }
   ],
   "source": [
    "checkpoint = ModelCheckpoint('model-{epoch:03d}.model',monitor='val_loss',verbose=0,save_best_only=True,mode='auto')\n",
    "model.compile(loss='binary_crossentropy',optimizer='adam',metrics=['accuracy'])\n",
    "history=model.fit(train_data,train_target,epochs=15,callbacks=[checkpoint],validation_split=0.2,validation_data=(test_data,test_target))"
   ]
  },
  {
   "cell_type": "code",
   "execution_count": null,
   "id": "47172031",
   "metadata": {},
   "outputs": [],
   "source": [
    "model.save('cervical_proj12_model.h5')"
   ]
  },
  {
   "cell_type": "code",
   "execution_count": 4,
   "id": "49fbfc05",
   "metadata": {},
   "outputs": [],
   "source": [
    "import numpy as np"
   ]
  },
  {
   "cell_type": "code",
   "execution_count": null,
   "id": "e5ff8f7d",
   "metadata": {},
   "outputs": [],
   "source": [
    "train_data = np.array(train_data)\n",
    "train_target = np.array(train_target)"
   ]
  },
  {
   "cell_type": "code",
   "execution_count": 46,
   "id": "7dfbc26d",
   "metadata": {},
   "outputs": [],
   "source": [
    "from tensorflow.python.distribute import input_lib\n",
    "from tensorflow.python.distribute.input_lib import DistributedDatasetInterface"
   ]
  },
  {
   "cell_type": "code",
   "execution_count": null,
   "id": "4df9598b",
   "metadata": {},
   "outputs": [],
   "source": [
    "plt.plot(history.history['accuracy'],'r',label='training accuracy')\n",
    "plt.plot(history.history['val_accuracy'],label='validation accuracy')\n",
    "plt.xlabel('# epochs')\n",
    "plt.ylabel('loss')\n",
    "plt.legend()\n",
    "plt.show()"
   ]
  },
  {
   "cell_type": "code",
   "execution_count": 2,
   "id": "0d16546d",
   "metadata": {},
   "outputs": [],
   "source": [
    "from tensorflow.keras.models import load_model"
   ]
  },
  {
   "cell_type": "code",
   "execution_count": 3,
   "id": "c977fd9f",
   "metadata": {},
   "outputs": [
    {
     "data": {
      "text/plain": [
       "<keras.engine.sequential.Sequential at 0x17c1defb3d0>"
      ]
     },
     "execution_count": 3,
     "metadata": {},
     "output_type": "execute_result"
    }
   ],
   "source": [
    "load_model('cervical_proj12_model.h5')"
   ]
  },
  {
   "cell_type": "code",
   "execution_count": 4,
   "id": "9112e334",
   "metadata": {},
   "outputs": [],
   "source": [
    "from tensorflow.keras.models import load_model\n",
    "\n",
    "# Load the model\n",
    "model = load_model('cervical_proj12_model.h5')\n"
   ]
  },
  {
   "cell_type": "code",
   "execution_count": 5,
   "id": "6e69afd0",
   "metadata": {},
   "outputs": [],
   "source": [
    "import numpy as np"
   ]
  },
  {
   "cell_type": "code",
   "execution_count": null,
   "id": "2616bd56",
   "metadata": {},
   "outputs": [],
   "source": [
    "#loss, accuracy = model.evaluate(test_data,test_target)\n",
    "#print('Test accuracy =', accuracy)"
   ]
  },
  {
   "cell_type": "code",
   "execution_count": 6,
   "id": "37dc3e50",
   "metadata": {},
   "outputs": [
    {
     "data": {
      "image/png": "[encoded data removed]",
      "text/plain": [
       "<Figure size 640x480 with 1 Axes>"
      ]
     },
     "metadata": {},
     "output_type": "display_data"
    }
   ],
   "source": [
    "import matplotlib.pyplot as plt\n",
    "\n",
    "# Assuming you have saved the training history during model training\n",
    "# history = model.fit(...)\n",
    "\n",
    "# If you don't have access to the training history, create a mock history\n",
    "# Replace these with your actual training history if available\n",
    "history = {'accuracy': [0.5, 0.6, 0.7, 0.8, 0.9],\n",
    "           'val_accuracy': [0.4, 0.5, 0.6, 0.7, 0.8]}\n",
    "\n",
    "# Plot the accuracy graph\n",
    "plt.plot(history['accuracy'], label='Training Accuracy')\n",
    "plt.plot(history['val_accuracy'], label='Validation Accuracy')\n",
    "plt.title('Model Accuracy')\n",
    "plt.xlabel('Epoch')\n",
    "plt.ylabel('Accuracy')\n",
    "plt.legend()\n",
    "plt.show()\n"
   ]
  },
  {
   "cell_type": "code",
   "execution_count": 11,
   "id": "dbff72db",
   "metadata": {},
   "outputs": [
    {
     "name": "stdout",
     "output_type": "stream",
     "text": [
      "Path of the image to be predicted: D:\\python\\project cancer\\Cervical Cancer Balanced Data\\test\\type_1_2.jpg\n",
      "1/1 [==============================] - 0s 43ms/step\n",
      "[[0.20038942 0.79961056]]\n",
      "Cancer cells detected.\n"
     ]
    }
   ],
   "source": [
    "import cv2\n",
    "import numpy as np\n",
    "\n",
    "# Assuming you have already loaded the model\n",
    "# model = ...\n",
    "\n",
    "input_image_path = input('Path of the image to be predicted: ')\n",
    "\n",
    "input_image = cv2.imread(input_image_path)\n",
    "\n",
    "cv2.imshow('Input Image', input_image)\n",
    "cv2.waitKey(0)\n",
    "cv2.destroyAllWindows()\n",
    "\n",
    "# Resize the image to match the expected input shape of the model (174x122)\n",
    "input_image_resized = cv2.resize(input_image, (174, 122))\n",
    "\n",
    "# Scale the pixel values to [0, 1]\n",
    "input_image_scaled = input_image_resized / 255\n",
    "\n",
    "# Reshape the input image to match the model's input shape\n",
    "input_image_reshaped = np.reshape(input_image_scaled, [1, 174, 122, 3])\n",
    "\n",
    "# Make predictions\n",
    "input_prediction = model.predict(input_image_reshaped)\n",
    "\n",
    "print(input_prediction)\n",
    "\n",
    "# Assuming it's a binary classification task\n",
    "threshold = 0.8\n",
    "\n",
    "# Extract the predicted probability\n",
    "predicted_probability = input_prediction[0][1]\n",
    "\n",
    "if predicted_probability >= threshold:\n",
    "    print('Cancer cell not detected')\n",
    "else:\n",
    "    print('Cancer cells detected.')\n"
   ]
  },
  {
   "cell_type": "code",
   "execution_count": null,
   "id": "c5db652d",
   "metadata": {},
   "outputs": [],
   "source": [
    "D:\\python\\project cancer\\Cervical Cancer Balanced Data\\test\\type_1_2.jpg"
   ]
  },
  {
   "cell_type": "code",
   "execution_count": null,
   "id": "61b6e956",
   "metadata": {},
   "outputs": [],
   "source": [
    "C:\\Users\\anto\\Pictures\\Camera Roll\\WIN_20240410_11_36_52_Pro.jpg"
   ]
  },
  {
   "cell_type": "code",
   "execution_count": null,
   "id": "15f2617e",
   "metadata": {},
   "outputs": [
    {
     "name": "stdout",
     "output_type": "stream",
     "text": [
      "1/1 [==============================] - 0s 94ms/step\n",
      "1/1 [==============================] - 0s 50ms/step\n"
     ]
    }
   ],
   "source": [
    "import tkinter as tk\n",
    "from tkinter import filedialog, messagebox\n",
    "from tensorflow.keras.models import load_model\n",
    "from tensorflow.keras.preprocessing import image\n",
    "import numpy as np\n",
    "\n",
    "# Load the model\n",
    "model = load_model('cervical_proj12_model.h5')\n",
    "\n",
    "def load_image():\n",
    "    file_path = filedialog.askopenfilename()\n",
    "    if file_path:\n",
    "        img = image.load_img(file_path, target_size=(174,122))\n",
    "        img = image.img_to_array(img)\n",
    "        img = np.expand_dims(img, axis=0)\n",
    "        return img, file_path\n",
    "    else:\n",
    "        return None, None\n",
    "\n",
    "def predict_image(name, age):\n",
    "    img, file_path = load_image()\n",
    "    if img is None or file_path is None:\n",
    "        return\n",
    "    \n",
    "    # Scale the pixel values to [0, 1]\n",
    "    input_image_scaled = img / 255\n",
    "\n",
    "    # Reshape the input image to match the model's input shape\n",
    "    input_image_reshaped = np.reshape(input_image_scaled, [1, 174, 122, 3])\n",
    "\n",
    "    # Make predictions\n",
    "    input_prediction = model.predict(input_image_reshaped)\n",
    "\n",
    "    # Assuming it's a binary classification task\n",
    "    threshold = 0.8\n",
    "\n",
    "    # Extract the predicted probability\n",
    "    predicted_probability = input_prediction[0][1]\n",
    "\n",
    "    if predicted_probability >= threshold:\n",
    "        result_label.config(text=f'Patient: {name}\\nAge: {age} \\nCancer cell detected', fg='red')\n",
    "    else:\n",
    "        result_label.config(text=f'Patient: {name}\\nAge: {age} \\nCancer cells not detected.', fg='green')\n",
    "\n",
    "def main():\n",
    "    root = tk.Tk()\n",
    "    root.title(\"Cervical Cancer Prediction\")\n",
    "    root.geometry(\"400x400\")\n",
    "\n",
    "    # Set black background\n",
    "    background_color = \"black\"\n",
    "    root.configure(background=background_color)\n",
    "\n",
    "    name_label = tk.Label(root, text=\"Enter Name:\", bg=background_color, fg=\"white\")\n",
    "    name_label.pack(pady=5)\n",
    "    name_entry = tk.Entry(root)\n",
    "    name_entry.pack(pady=5)\n",
    "\n",
    "    age_label = tk.Label(root, text=\"Enter Age:\", bg=background_color, fg=\"white\")\n",
    "    age_label.pack(pady=5)\n",
    "    age_entry = tk.Entry(root)\n",
    "    age_entry.pack(pady=5)\n",
    "\n",
    "    load_button = tk.Button(root, text=\"Load Image\", command=lambda: predict_image(name_entry.get(), age_entry.get()))\n",
    "    load_button.pack(pady=10)\n",
    "\n",
    "    global result_label\n",
    "    result_label = tk.Label(root, text='', font=('Helvetica', 12), bg=background_color, fg=\"white\")\n",
    "    result_label.pack(pady=10)\n",
    "\n",
    "    root.mainloop()\n",
    "\n",
    "if __name__ == \"__main__\":\n",
    "    main()\n"
   ]
  },
  {
   "cell_type": "code",
   "execution_count": null,
   "id": "8e64a0a7",
   "metadata": {},
   "outputs": [],
   "source": []
  }
 ],
 "metadata": {
  "kernelspec": {
   "display_name": "Python 3 (ipykernel)",
   "language": "python",
   "name": "python3"
  },
  "language_info": {
   "codemirror_mode": {
    "name": "ipython",
    "version": 3
   },
   "file_extension": ".py",
   "mimetype": "text/x-python",
   "name": "python",
   "nbconvert_exporter": "python",
   "pygments_lexer": "ipython3",
   "version": "3.11.4"
  }
 },
 "nbformat": 4,
 "nbformat_minor": 5
}
